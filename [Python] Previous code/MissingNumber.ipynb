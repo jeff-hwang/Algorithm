{
 "cells": [
  {
   "cell_type": "code",
   "execution_count": 2,
   "metadata": {},
   "outputs": [
    {
     "data": {
      "text/plain": [
       "2"
      ]
     },
     "execution_count": 2,
     "metadata": {},
     "output_type": "execute_result"
    }
   ],
   "source": [
    "class MissingNumber:\n",
    "    def missingNumber(self, nums):\n",
    "        nums.sort()\n",
    "        if nums[-1] != len(nums):\n",
    "            return len(nums)\n",
    "        elif nums[0] != 0:\n",
    "            return 0\n",
    "\n",
    "        for i in range(1, len(nums)):\n",
    "            expected_num = nums[i-1] + 1\n",
    "            if nums[i] != expected_num:\n",
    "                return expected_num\n",
    "        \n",
    "\n",
    "s1 = MissingNumber()\n",
    "list1 = [1,0,3]\n",
    "s1.missingNumber(list1)"
   ]
  }
 ],
 "metadata": {
  "kernelspec": {
   "display_name": "Python 3",
   "language": "python",
   "name": "python3"
  },
  "language_info": {
   "codemirror_mode": {
    "name": "ipython",
    "version": 3
   },
   "file_extension": ".py",
   "mimetype": "text/x-python",
   "name": "python",
   "nbconvert_exporter": "python",
   "pygments_lexer": "ipython3",
   "version": "3.7.0"
  }
 },
 "nbformat": 4,
 "nbformat_minor": 2
}
