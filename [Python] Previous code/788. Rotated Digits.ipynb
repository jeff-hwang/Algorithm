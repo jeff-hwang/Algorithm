{
 "cells": [
  {
   "cell_type": "code",
   "execution_count": 1,
   "metadata": {},
   "outputs": [],
   "source": [
    "class Solution:\n",
    "    def rotatedDigits(self, N):\n",
    "        set1 = {'0', '1', '8', '2', '5', '6', '9'}\n",
    "        set2 = {'2', '5', '6', '9'}\n",
    "        res = 0\n",
    "        for i in range(1, N+1):\n",
    "            i_str = str(i)\n",
    "            if self.all_in_set(set1, i_str) and self.any_in_set(set2, i_str):\n",
    "                res +=1\n",
    "        return res\n",
    "\n",
    "    \n",
    "    def all_in_set(self, s, string):\n",
    "        for e in string:\n",
    "            if e not in s:\n",
    "                return False\n",
    "        return True\n",
    "\n",
    "    def any_in_set(self, s, string):\n",
    "        for e in string:\n",
    "            if e in s:\n",
    "                return True\n",
    "        return False"
   ]
  }
 ],
 "metadata": {
  "kernelspec": {
   "display_name": "Python 3",
   "language": "python",
   "name": "python3"
  },
  "language_info": {
   "codemirror_mode": {
    "name": "ipython",
    "version": 3
   },
   "file_extension": ".py",
   "mimetype": "text/x-python",
   "name": "python",
   "nbconvert_exporter": "python",
   "pygments_lexer": "ipython3",
   "version": "3.7.0"
  }
 },
 "nbformat": 4,
 "nbformat_minor": 2
}
