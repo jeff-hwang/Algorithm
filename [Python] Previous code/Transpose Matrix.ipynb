{
 "cells": [
  {
   "cell_type": "code",
   "execution_count": 7,
   "metadata": {},
   "outputs": [],
   "source": [
    "class Solution:\n",
    "    def transpose(self, A):\n",
    "        \"\"\"\n",
    "        :type A: List[List[int]]\n",
    "        :rtype: List[List[int]]\n",
    "        \"\"\"\n",
    "        \n",
    "        size1 = len(A) # A 길이 받아오는 변수\n",
    "        size2 = len(A[0]) # A[0] 길이 받아오는 변수\n",
    "        \n",
    "        list1 = [[0 for i in range(size1)]for j in range(size2)] # A[size2][size1] 크기의 list 생성\n",
    "        \n",
    "        for i in range(size1):\n",
    "            for j in range(size2):\n",
    "                list1[j][i]=A[i][j]\n",
    "                \n",
    "        return list1"
   ]
  },
  {
   "cell_type": "code",
   "execution_count": 8,
   "metadata": {},
   "outputs": [
    {
     "data": {
      "text/plain": [
       "[[1, 4], [2, 5], [3, 6]]"
      ]
     },
     "execution_count": 8,
     "metadata": {},
     "output_type": "execute_result"
    }
   ],
   "source": [
    "s1 = Solution()\n",
    "list1 = [[1,2,3],[4,5,6]]\n",
    "s1.transpose(list1)"
   ]
  }
 ],
 "metadata": {
  "kernelspec": {
   "display_name": "Python 3",
   "language": "python",
   "name": "python3"
  },
  "language_info": {
   "codemirror_mode": {
    "name": "ipython",
    "version": 3
   },
   "file_extension": ".py",
   "mimetype": "text/x-python",
   "name": "python",
   "nbconvert_exporter": "python",
   "pygments_lexer": "ipython3",
   "version": "3.7.0"
  }
 },
 "nbformat": 4,
 "nbformat_minor": 2
}
