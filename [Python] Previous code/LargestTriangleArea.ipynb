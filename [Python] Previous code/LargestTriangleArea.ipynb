{
 "cells": [
  {
   "cell_type": "code",
   "execution_count": 44,
   "metadata": {},
   "outputs": [
    {
     "data": {
      "text/plain": [
       "1.0"
      ]
     },
     "execution_count": 44,
     "metadata": {},
     "output_type": "execute_result"
    }
   ],
   "source": [
    "points = [[0,1],[0,1],[1,0],[0,2],[2,0]]\n",
    "class Solution :\n",
    "    def largestTriangleArea(self, points):\n",
    "        max_area = 0\n",
    "        temp_area = 0\n",
    "        arr_size = len(points)\n",
    "        for i in range(arr_size):\n",
    "            for j in range(i + 1, arr_size):\n",
    "                for k in range(j+1, arr_size):\n",
    "                    temp_area = self.triangle_area(points[i], points[j], points[k])\n",
    "                    if temp_area > max_area :\n",
    "                        max_area = temp_area\n",
    "        return max_area\n",
    "\n",
    "    def triangle_area(self, a, b, c):\n",
    "        return (0.5*abs((b[0]-a[0])*(c[1]-a[1]) - (b[1]-a[1])*(c[0]-a[0])))\n",
    "\n",
    "tri = Solution()\n",
    "tri.largestTriangleArea(points)"
   ]
  }
 ],
 "metadata": {
  "kernelspec": {
   "display_name": "Python 3",
   "language": "python",
   "name": "python3"
  },
  "language_info": {
   "codemirror_mode": {
    "name": "ipython",
    "version": 3
   },
   "file_extension": ".py",
   "mimetype": "text/x-python",
   "name": "python",
   "nbconvert_exporter": "python",
   "pygments_lexer": "ipython3",
   "version": "3.7.0"
  }
 },
 "nbformat": 4,
 "nbformat_minor": 2
}
