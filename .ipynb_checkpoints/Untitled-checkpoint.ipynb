{
 "cells": [
  {
   "cell_type": "code",
   "execution_count": 8,
   "metadata": {},
   "outputs": [
    {
     "name": "stdout",
     "output_type": "stream",
     "text": [
      "[[1, 2, 3, 4]]\n"
     ]
    }
   ],
   "source": [
    "class Solution(object):\n",
    "    def matrixReshape(self, nums, r, c):\n",
    "        \"\"\"\n",
    "        :type nums: List[List[int]]\n",
    "        :type r: int\n",
    "        :type c: int\n",
    "        :rtype: List[List[int]]\n",
    "        \"\"\"\n",
    "        rst = []\n",
    "        \n",
    "        itList = []\n",
    "        for i in nums:\n",
    "            for j in i:\n",
    "                itList.append(j)\n",
    "        #return itList\n",
    "        # itList 에 1차원 배열로 정렬됨\n",
    "        \n",
    "        for i in range(1, r+1):\n",
    "            lst = []\n",
    "            for j in range(c):\n",
    "                if len(itList)!=0:\n",
    "                    a = itList.pop(0)\n",
    "                    lst.append(a)\n",
    "            rst.append(lst)\n",
    "        return rst\n",
    "\n",
    "if __name__ == '__main__':\n",
    "\n",
    "    nums = [\n",
    "        [1,2],\n",
    "        [3,4]\n",
    "    ]\n",
    "    r = 1\n",
    "    c = 4\n",
    "    sl = Solution().matrixReshape(nums, r, c)\n",
    "    print(sl)"
   ]
  }
 ],
 "metadata": {
  "kernelspec": {
   "display_name": "Python 3",
   "language": "python",
   "name": "python3"
  },
  "language_info": {
   "codemirror_mode": {
    "name": "ipython",
    "version": 3
   },
   "file_extension": ".py",
   "mimetype": "text/x-python",
   "name": "python",
   "nbconvert_exporter": "python",
   "pygments_lexer": "ipython3",
   "version": "3.7.0"
  }
 },
 "nbformat": 4,
 "nbformat_minor": 2
}
